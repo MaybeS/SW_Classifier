{
 "cells": [
  {
   "cell_type": "markdown",
   "metadata": {},
   "source": []
  },
  {
   "cell_type": "code",
   "execution_count": 1,
   "metadata": {
    "collapsed": true
   },
   "outputs": [],
   "source": [
    "from sklearn.externals import joblib"
   ]
  },
  {
   "cell_type": "code",
   "execution_count": 2,
   "metadata": {
    "collapsed": false
   },
   "outputs": [],
   "source": [
    "clf = joblib.load('classify.model')\n",
    "cate_dict = joblib.load('cate_dict.dat')\n",
    "vectorizer = joblib.load('vectorizer.dat')"
   ]
  },
  {
   "cell_type": "code",
   "execution_count": 3,
   "metadata": {
    "collapsed": false
   },
   "outputs": [
    {
     "data": {
      "text/plain": [
       "['n_vectorizer.dat']"
      ]
     },
     "execution_count": 3,
     "metadata": {},
     "output_type": "execute_result"
    }
   ],
   "source": [
    "joblib.dump(clf,'n_classify.model')\n",
    "joblib.dump(cate_dict,'n_cate_dict.dat')\n",
    "joblib.dump(vectorizer,'n_vectorizer.dat')"
   ]
  },
  {
   "cell_type": "code",
   "execution_count": 4,
   "metadata": {
    "collapsed": false
   },
   "outputs": [],
   "source": [
    "cate_id_name_dict = dict(map(lambda (k,v):(v,k),cate_dict.items()))"
   ]
  },
  {
   "cell_type": "code",
   "execution_count": 5,
   "metadata": {
    "collapsed": true
   },
   "outputs": [],
   "source": [
    "from konlpy.tag import Twitter; t = Twitter()\n",
    "from nltk import pos_tag, word_tokenize\n",
    "from nltk.util import ngrams"
   ]
  },
  {
   "cell_type": "code",
   "execution_count": 6,
   "metadata": {
    "collapsed": false
   },
   "outputs": [],
   "source": [
    "brackets = [\"[\", \"{\", \"(\"]\n",
    "brackete = [\"]\", \"}\", \")\"]\n",
    "def getBrac(name, chk=True):\n",
    "    brac = {True:\"\", False:\"\"}\n",
    "    for c in name:\n",
    "        chk = not c in brackets and chk\n",
    "        if c not in brackets and c not in brackete: brac[chk] += c\n",
    "        else: brac[chk] += \" \"; brac[not chk] += \" \"\n",
    "        chk = c in brackete or chk\n",
    "    return (brac[True], brac[False])"
   ]
  },
  {
   "cell_type": "code",
   "execution_count": 7,
   "metadata": {
    "collapsed": true
   },
   "outputs": [],
   "source": [
    "gram_cnt = 2\n",
    "chk_NC = [\"NN\", \"CD\"]\n",
    "chk_NA = [\"Noun\"]\n",
    "chk_NAN = [\"Noun\", \"Number\"]\n",
    "\n",
    "getNLTK = lambda name, chk : [token[0] for token in pos_tag(name) if token[1][:2] in chk]\n",
    "getKONL = lambda name, chk : [token[0] for token in t.pos(name) if token[1] in chk]\n",
    "getTokn = lambda name, chk_ko, chk_en : [token[0] for token in t.pos(name) if (token[1] == \"Alpha\") or token[1] in chk_ko]\n",
    "getGram = lambda name, cnt : [\" \".join([\"\".join(grams)]) for grams in ngrams(name, cnt)]\n",
    "def getName(name):\n",
    "\tbrac = getBrac(name)\n",
    "\tnoun = getTokn(brac[0], chk_NAN, chk_NC) + getTokn(brac[1], chk_NAN, chk_NC)\n",
    "\tgram = getGram(noun, min(gram_cnt, max(len(noun)-1, 1)))\n",
    "\treturn \" \".join(list(set(noun)) + list(set(gram)))"
   ]
  },
  {
   "cell_type": "code",
   "execution_count": 8,
   "metadata": {
    "collapsed": true
   },
   "outputs": [],
   "source": [
    "getImageName = lambda name : name.split('/')[-1][:-4]"
   ]
  },
  {
   "cell_type": "code",
   "execution_count": 9,
   "metadata": {
    "collapsed": false
   },
   "outputs": [],
   "source": [
    "from classify_image_module import getImageJson\n",
    "def getImge(name):\n",
    "    return getImageJson(name)"
   ]
  },
  {
   "cell_type": "code",
   "execution_count": 10,
   "metadata": {
    "collapsed": false
   },
   "outputs": [
    {
     "name": "stdout",
     "output_type": "stream",
     "text": [
      "name:  4770 i 코어 4 7 하스웰 K 세대 인텔 정품 i7 4세대 인텔코어 코어i 74 인텔인텔 하스웰정품 4770K K하스웰 세대4770\n",
      "image:   \n"
     ]
    }
   ],
   "source": [
    "test_name = u\"인텔 인텔 코어i7-4세대 4770K (하스웰) (정품)\"\n",
    "test_imge = u\"90985\"\n",
    "name = getName(test_name)\n",
    "imge = getImge(test_imge)\n",
    "print \"name: \", name\n",
    "print \"image: \", imge"
   ]
  },
  {
   "cell_type": "code",
   "execution_count": 11,
   "metadata": {
    "collapsed": false
   },
   "outputs": [
    {
     "name": "stdout",
     "output_type": "stream",
     "text": [
      "디지털/가전;PC부품;CPU\n"
     ]
    }
   ],
   "source": [
    "pred = clf.predict(vectorizer.transform([name + imge]))[0]\n",
    "print cate_id_name_dict[pred]"
   ]
  },
  {
   "cell_type": "code",
   "execution_count": 12,
   "metadata": {
    "collapsed": false,
    "scrolled": true
   },
   "outputs": [
    {
     "name": "stdout",
     "output_type": "stream",
     "text": [
      "name:  생산 번 아웃 차렵 국내 세트 바자르 극세사 퀸 100 생산100 아웃극세사 차렵세트 세트퀸 번아웃 100바자르 국내생산 바자르번 극세사차렵\n",
      "image:   quilt\n"
     ]
    }
   ],
   "source": [
    "name_test = u\"(퀸)국내생산100% 바자르 번아웃극세사 차렵세트\"\n",
    "imge_test = \"http://image.hnsmall.com/images/goods/477/11924477_g.jpg\"\n",
    "name = getName(name_test)\n",
    "imge = getImge(getImageName(imge_test))\n",
    "print \"name: \", name\n",
    "print \"image: \", imge"
   ]
  },
  {
   "cell_type": "code",
   "execution_count": 13,
   "metadata": {
    "collapsed": false
   },
   "outputs": [
    {
     "name": "stdout",
     "output_type": "stream",
     "text": [
      "패션의류;남성언더웨어/잠옷;잠옷/홈웨어\n"
     ]
    }
   ],
   "source": [
    "pred = clf.predict(vectorizer.transform([name + imge]))[0]\n",
    "print cate_id_name_dict[pred]"
   ]
  },
  {
   "cell_type": "code",
   "execution_count": null,
   "metadata": {
    "collapsed": true
   },
   "outputs": [],
   "source": [
    "from IPython.display import clear_output"
   ]
  },
  {
   "cell_type": "code",
   "execution_count": null,
   "metadata": {
    "collapsed": false
   },
   "outputs": [
    {
     "name": "stderr",
     "output_type": "stream",
     "text": [
      "10.0.2.2 - - [22/Aug/2016 10:39:32] \"GET /classify?name=%ED%8E%9C%EC%8B%B1[5%EB%B6%80%EC%A7%84]%EC%BB%B7%ED%8C%85%205%EB%B6%80p(ver.dark%20jean)%ED%8E%98%EC%9D%B8%ED%8C%85%20%EC%9B%8C%EC%8B%B1%EC%9D%98%ED%9D%AC%EC%86%8C%EA%B0%80%EC%B9%98%EC%99%80%20%EB%B9%88%ED%8B%B0%EC%A7%80%ED%95%A8%EC%97%90%EC%8A%A4%ED%8C%90%EB%9F%89%EC%9D%B4%20%EC%A2%8B%EC%95%84%EC%9A%9426~30%EA%B9%8C%EC%A7%80%20%EC%B0%A9%EC%9A%A9%EA%B0%80%EB%8A%A5&img=http://shopping.phinf.naver.net/main_7783737/7783737592.jpg HTTP/1.1\" 200 74\n",
      "10.0.2.2 - - [22/Aug/2016 10:39:32] \"GET /classify?name=no.5305%20%EB%84%A4%EC%98%A4%ED%94%84%EB%9E%9C%20%EC%8B%AC%ED%94%8C%20%EC%95%84%EB%B0%A9%EC%BD%94%ED%8A%B8[2color%20/%20%EA%B0%84%EC%A0%88%EA%B8%B0~%EB%B4%84%20%EA%B0%80%EC%9D%84%EA%B9%8C%EC%A7%80%20%EC%B0%A9%EC%9A%A9%EA%B0%80%EB%8A%A5%ED%95%A9%EB%8B%88%EB%8B%A4]&img=http://shopping.phinf.naver.net/main_8238777/8238777002.jpg HTTP/1.1\" 200 74\n",
      "10.0.2.2 - - [22/Aug/2016 10:39:32] \"GET /classify?name=%EC%9D%B4%EC%8A%A4%EB%85%B8%20%EB%84%A4%ED%94%84%20%ED%8F%B4%EB%9D%BC%EB%8B%88%ED%8A%B8%EB%B3%B4%EC%B9%B4%EC%8B%9C%ED%95%9C%20%EC%9B%90%EB%8B%A8%EC%9D%84%20%EC%82%AC%EC%9A%A9%ED%95%98%EC%97%AC%20%EB%8B%A4%EC%96%91%ED%95%9C%20%EB%A7%A4%EB%A0%A5%EC%9D%84%20%EB%8A%90%EB%82%84%EC%88%98%20%EC%9E%88%EB%8A%94%20%EB%8B%88%ED%8A%B8%20%ED%8F%B4%EB%9D%BC(FREE)&img=http://shopping.phinf.naver.net/main_8153059/8153059601.jpg HTTP/1.1\" 200 74\n"
     ]
    },
    {
     "name": "stdout",
     "output_type": "stream",
     "text": [
      "3001\n",
      "3002\n",
      "3003\n",
      "3004\n",
      "3005\n",
      "3006\n",
      "3007\n",
      "3008\n",
      "3009\n"
     ]
    },
    {
     "name": "stderr",
     "output_type": "stream",
     "text": [
      "10.0.2.2 - - [22/Aug/2016 10:39:32] \"GET /classify?name=%EB%A0%88%EB%85%B8%EB%A7%88(%EB%84%A5%ED%83%80%EC%9D%B4)%20[%EB%A1%AF%EB%8D%B0%EB%B0%B1%ED%99%94%EC%A0%90]%EC%A0%84%EC%B2%B4%EC%A0%81%EC%9C%BC%EB%A1%9C%20%EC%82%AC%EB%9D%BC%EC%82%AC%20%EB%AC%B8%EC%96%91%EC%97%90%20%EC%84%A0%EB%AA%85%ED%95%9C%20%EC%B9%BC%EB%9D%BC%EA%B0%90%EC%9D%B4%20%EB%8F%8B%EB%B3%B4%EC%9D%B4%EB%8A%94%20%ED%81%AC%EB%A6%AC%EC%8A%A4%ED%83%88%20%EB%84%A5%ED%83%80%EC%9D%B4&img=http://shopping.phinf.naver.net/main_7965752/7965752864.jpg HTTP/1.1\" 200 123\n",
      "10.0.2.2 - - [22/Aug/2016 10:39:32] \"GET /classify?name=%EA%B0%80%ED%8A%B8%20%ED%8C%A8%EB%94%A9%20%EC%BD%94%ED%8A%B8[2color]%ED%81%B4%EB%9E%98%EC%8B%9D%ED%95%9C%20%EB%B6%84%EC%9C%84%EA%B8%B0%EC%99%80%20%EB%94%B0%EC%8A%A4%ED%95%9C%20%EB%B3%B4%EC%98%A8%EC%84%B1%20GOOD!%EA%B8%B0%EC%A1%B4%EA%B0%80%2060,000%EC%9B%90&img=http://shopping.phinf.naver.net/main_8232395/8232395461.jpg HTTP/1.1\" 200 74\n",
      "10.0.2.2 - - [22/Aug/2016 10:39:32] \"GET /classify?name=[CROOKLYN]%20[%ED%81%AC%EB%A3%A8%ED%81%B4%EB%A6%B0]%20%EC%84%BC%EC%8A%A4%ED%8B%B0%EB%B8%8C%20%EB%84%A4%EC%98%A4%ED%94%8C%EB%A0%8C%20%ED%9B%84%EB%93%9C%20%EC%A7%91%EC%97%85%20HZL601&img=http://shopping.phinf.naver.net/main_8010946/8010946181.jpg HTTP/1.1\" 200 74\n",
      "10.0.2.2 - - [22/Aug/2016 10:39:32] \"GET /classify?name=%EC%95%A8%EB%B9%88%ED%81%B4%EB%A1%9C%20%EC%97%AC%EB%9F%AC%EA%B0%80%EC%A7%80%20%EC%BB%AC%EB%9F%AC!%20%EB%B0%91%EB%B6%80%EB%B6%84%20%EC%A1%B0%EA%B7%B8%EB%A7%8C%20%EC%9E%90%EC%88%98%EB%A1%9C%20%ED%8F%AC%EC%9D%B8%ED%8A%B8!%20BASIC%20%ED%9B%84%EB%93%9C%ED%8B%B0%EC%85%94%EC%B8%A0%20AVH_151&img=http://shopping.phinf.naver.net/main_7898596/7898596986.jpg HTTP/1.1\" 200 74\n",
      "10.0.2.2 - - [22/Aug/2016 10:39:32] \"GET /classify?name=[1300K]%20%EA%B8%B0%EB%AA%A8%20%EC%95%88%EA%B0%90%EC%9D%98%20%ED%8E%B8%EC%95%88%ED%95%9C%20%EB%B0%98%ED%8C%94%20T(SA14120103)&img=http://shopping.phinf.naver.net/main_8219262/8219262468.jpg HTTP/1.1\" 200 74\n",
      "10.0.2.2 - - [22/Aug/2016 10:39:32] \"GET /classify?name=%EC%97%A0%EB%A7%88[%EC%9B%90%ED%94%BC%EC%8A%A4]%EC%85%94%EC%B8%A0%EC%B9%B4%EB%9D%BC%20ops%EB%84%A4%ED%81%AC%EB%9D%BC%EC%9D%B8%EC%97%90%20%ED%99%94%EC%9D%B4%ED%8B%B0%ED%95%9C%20%EC%85%94%EC%B8%A0%EC%B9%B4%EB%9D%BC%EA%B0%80%EB%A0%88%EC%9D%B4%EC%96%B4%EB%A7%81%EB%90%98%EC%96%B4%20%EB%8B%A8%EB%B2%8C%EB%A1%9C%EB%8F%84%20%EC%B6%A9%EB%B6%84%ED%9E%88%EB%B6%84%EC%9C%84%EA%B8%B0%EC%9E%88%EB%8A%94%20%EB%AA%A8%EB%8D%98%ED%95%9C%20%EC%9B%90%ED%94%BC%EC%8A%A4(%EB%92%B7%EC%A7%80%ED%8D%BC%EC%97%AC%EB%B0%88)L,XL%EA%B5%AC%EB%A7%A4%EA%B0%80%EB%8A%A5(55~88)&img=http://shopping.phinf.naver.net/main_8344579/8344579353.jpg HTTP/1.1\" 200 74\n",
      "10.0.2.2 - - [22/Aug/2016 10:39:32] \"GET /classify?name=Black%20Coating%20Span%20Pants%EB%A0%88%EB%8D%94%EB%8A%90%EB%82%8C%EC%9D%B4%20%EB%AC%BC%EC%94%AC%20%ED%92%8D%EA%B8%B0%EB%8A%94%20%ED%95%98%EB%93%9C%EC%BD%94%ED%8C%85%20%EB%A9%B4%EC%8A%A4%ED%8C%90%20%EC%8A%AC%EB%A6%BC%20%EC%BD%94%ED%8C%85%EC%A7%84&img=http://shopping.phinf.naver.net/main_8246126/8246126727.jpg HTTP/1.1\" 200 117\n",
      "10.0.2.2 - - [22/Aug/2016 10:39:32] \"GET /classify?name=[AK%EB%AA%B0/%ED%94%84%EB%A1%9C%EC%8A%A4%ED%8E%99%EC%8A%A4]%EC%8A%A4%ED%8C%90%20%EC%86%8C%EC%9E%AC%EB%A1%9C%20%ED%8E%B8%EC%95%88%ED%95%9C%20%EC%B0%A9%EC%9A%A9%EA%B0%90%EA%B3%BC%20%ED%99%9C%EB%8F%99%EC%84%B1%20%EC%A0%9C%EA%B3%B5%20%20[%ED%94%84%EB%A1%9C%EC%8A%A4%ED%8E%99%EC%8A%A4]%20%EB%82%A8%EC%84%B1%20%ED%8A%B8%EB%A0%88%EC%9D%B4%EB%8B%9D%20%ED%8C%AC%EC%B8%A0%20MN15-S201%20%EB%8B%A4%ED%81%AC%EB%84%A4%EC%9D%B4%EB%B9%84&img=http://shopping.phinf.naver.net/main_8314054/8314054405.jpg HTTP/1.1\" 200 92\n",
      "10.0.2.2 - - [22/Aug/2016 10:39:32] \"GET /classify?name=[%EB%A1%9C%EC%BC%93%EB%9F%B0%EC%B9%98]%ED%9D%94%ED%95%98%EC%A7%80%20%EC%95%8A%EC%9D%80%20%EC%97%90%EC%8A%A4%EB%8B%89%20%EB%A9%80%ED%8B%B0%ED%8C%A8%ED%84%B4%EC%9D%98%20%ED%95%98%EC%9D%B4%EC%9B%A8%EC%8A%A4%ED%8A%B8%20%EC%88%8F%ED%8C%AC%EC%B8%A0%20-%20High%20Pants&img=http://shopping.phinf.naver.net/main_7899617/7899617062.jpg HTTP/1.1\" 200 86\n"
     ]
    },
    {
     "name": "stdout",
     "output_type": "stream",
     "text": [
      "3010\n",
      "3011\n",
      "3012\n",
      "3013\n"
     ]
    },
    {
     "name": "stderr",
     "output_type": "stream",
     "text": [
      "10.0.2.2 - - [22/Aug/2016 10:39:32] \"GET /classify?name=%EC%9D%B8%EB%94%94%EA%B3%A0%20%EB%8D%B0%EB%8B%98%20%EB%B8%94%EB%A0%88%EC%9D%B4%EC%A0%B8%EC%8A%A4%ED%8A%B8%EB%9D%BC%EC%9D%B4%ED%94%84%20%ED%8C%A8%ED%84%B4!!%EC%9B%8C%EC%8B%B1%EB%8D%B0%EB%8B%98%EA%B0%80%EA%B3%B52color%EB%81%8A%EC%9E%84%EC%97%86%EC%9D%B4%20%EC%82%AC%EB%9E%91%EB%B0%9B%EA%B3%A0%20%EC%9E%88%EB%8A%94%20%EB%8D%B0%EB%8B%98%EC%86%8C%EC%9E%AC%EC%9D%98%20%EC%9E%90%EC%BC%93!!%ED%95%8F%EC%9D%84%20%EC%9E%A1%EC%95%84%EC%A3%BC%EC%96%B4%20%EB%8B%A8%EC%A0%95%ED%95%9C%20%ED%95%8F%20%EB%9D%BC%EC%9D%B8%EA%B3%BC%20%EA%B9%94%EB%81%94%ED%95%9C%20%EC%9D%B4%EB%AF%B8%EC%A7%80%20%EC%97%B0%EC%B6%9C%EC%9D%B4%20%EA%B0%80%EB%8A%A5%ED%95%98%EC%97%AC%20%ED%99%9C%EC%9A%A9%EB%8F%84%20%EB%86%92%EC%9D%80%20%EC%95%84%EC%9D%B4&img=http://shopping.phinf.naver.net/main_6997619/6997619229.jpg HTTP/1.1\" 200 74\n",
      "10.0.2.2 - - [22/Aug/2016 10:39:32] \"GET /classify?name=%ED%85%8C%EC%9D%B4%EB%A8%BC%20%ED%97%A8%EB%A6%AC%EB%84%A5%20%EA%B8%B4%ED%8C%94%ED%8B%B0[2color]%ED%8F%AC%EC%BC%93%EC%9D%98%20%EC%8A%A4%ED%8B%B0%EC%B9%98%ED%8F%AC%EC%9D%B8%ED%8A%B8%EB%A1%9C%20%EC%9C%A0%EB%8B%88%ED%81%AC%EA%B8%B0%EC%A1%B4%EA%B0%80%2018,000%EC%9B%90&img=http://shopping.phinf.naver.net/main_8320224/8320224279.jpg HTTP/1.1\" 200 74\n",
      "10.0.2.2 - - [22/Aug/2016 10:39:32] \"GET /classify?name=[%EC%86%8C%EB%85%80%EB%82%98%EB%9D%BC]%20%EC%8A%88%ED%8D%BC%EB%9F%AC%EB%B8%8C%EB%89%B4%EC%9A%95%20%EC%BA%90%EC%A5%AC%EC%96%BC%ED%95%9C%20%ED%8F%B0%ED%8A%B8%20%ED%94%84%EB%A6%B0%ED%8C%85%EC%9C%BC%EB%A1%9C%20%ED%8F%AC%EC%9D%B8%ED%8A%B8%EB%A5%BC%20%EC%A4%80%20%ED%94%8C%EB%A0%88%EC%96%B4%20%EB%B0%B4%EB%93%9C%20%EC%9B%90%ED%94%BC%EC%8A%A4&img=http://shopping.phinf.naver.net/main_8341132/8341132477.jpg HTTP/1.1\" 200 80\n"
     ]
    },
    {
     "name": "stdout",
     "output_type": "stream",
     "text": [
      "3014\n",
      "3015\n",
      "3016\n",
      "3017\n",
      "3018\n",
      "3019\n",
      "3020\n",
      "3021\n"
     ]
    },
    {
     "name": "stderr",
     "output_type": "stream",
     "text": [
      "10.0.2.2 - - [22/Aug/2016 10:39:32] \"GET /classify?name=1300K%20[%EC%95%A8%EB%B9%88%ED%81%B4%EB%A1%9C]%20MAR%20732%20%EC%B9%B4%EB%AA%A8%ED%94%8C%EB%9D%BC%EC%A5%AC%20%ED%8C%A8%ED%84%B4%EC%9D%98%20%EB%A7%A8%ED%88%AC%EB%A7%A8%20%ED%8B%B0%EC%85%94%EC%B8%A0&img=http://shopping.phinf.naver.net/main_8343758/8343758493.jpg HTTP/1.1\" 200 80\n",
      "10.0.2.2 - - [22/Aug/2016 10:39:32] \"GET /classify?name=BURBERRY%20B95468%20100%20%20%EB%B2%84%EB%B2%84%EB%A6%AC%20%ED%8E%B8%EC%95%88%ED%95%A8%EC%9D%B4%20%EB%A7%A4%EB%A0%A5%EC%A0%81%EC%9D%B8%20%EB%8B%88%ED%8A%B8%20%ED%8B%B0%EC%85%94%EC%B8%A0&img=http://shopping.phinf.naver.net/main_7096987/7096987834.1.jpg HTTP/1.1\" 200 74\n",
      "10.0.2.2 - - [22/Aug/2016 10:39:32] \"GET /classify?name=SN.%EB%B3%B4%EC%B9%B4%EC%8B%9C%20%EB%82%98%EA%B7%B8%EB%9E%91%20%EC%A7%91%EC%97%85%EC%9C%A0%ED%96%89%EC%9D%84%20%ED%83%80%EC%A7%80%20%EC%95%8A%EB%8A%94%20%EB%B3%B4%EC%B9%B4%EC%8B%9C%20%EB%94%94%EC%9E%90%EC%9D%B8%EC%9C%BC%EB%A1%9C%20%EA%B0%90%EA%B0%81%EC%A0%81%EC%9D%B8%20%EB%8A%90%EB%82%8C%EC%9D%84%20%EC%A3%BC%EB%8A%94%20%EB%8B%88%ED%8A%B8%EC%A7%91%EC%97%85(M/L)&img=http://shopping.phinf.naver.net/main_8350483/8350483080.jpg HTTP/1.1\" 200 74\n",
      "10.0.2.2 - - [22/Aug/2016 10:39:32] \"GET /classify?name=%EB%B3%B4%EC%B9%B4%EC%8B%9C%20%EC%9C%84%EB%B9%99%EB%9D%BC%EC%9A%B4%EB%93%9CKNIT%EB%B2%A0%EC%9D%B4%EC%A7%81%ED%95%9C%20%EB%94%94%EC%9E%90%EC%9D%B8%EC%97%90%20%EA%B0%90%EA%B0%81%EC%A0%81%EC%9D%B8%20%EB%B3%B4%EC%B9%B4%EC%8B%9C%ED%95%9C%20%EC%BB%AC%EB%9F%AC%EA%B0%90%EC%9D%B4%20%EB%8D%94%ED%95%B4%EC%A7%84%20%EB%8B%88%ED%8A%B8%EC%95%84%EC%9D%B4%ED%85%9C(FREE)&img=http://shopping.phinf.naver.net/main_7964085/7964085902.jpg HTTP/1.1\" 200 74\n",
      "10.0.2.2 - - [22/Aug/2016 10:39:32] \"GET /classify?name=%ED%99%80%EB%A6%AD%20%EB%B3%B4%EC%B9%B4%EC%8B%9C%EB%A0%88%EA%B8%80%EB%9F%B0KNIT%EA%B0%90%EA%B0%81%EC%A0%81%EC%9D%B8%20%EA%B7%B8%EB%9D%BC%EB%8D%B0%EC%9D%B4%EC%85%98%20%EB%8A%90%EB%82%8C%EC%9D%98%20%EB%B3%B4%EC%B9%B4%EC%8B%9C%ED%95%9C%20%EC%BB%AC%EB%9F%AC%EA%B0%90%EC%9D%B4%20%EB%A7%A4%EB%A0%A5%EC%A0%81%EC%9D%B8%20%EC%9A%B8%EB%8B%88%ED%8A%B8(FREE)&img=http://shopping.phinf.naver.net/main_7342030/7342030827.jpg HTTP/1.1\" 200 74\n",
      "10.0.2.2 - - [22/Aug/2016 10:39:32] \"GET /classify?name=[OP0952]%20Cara%20Band%20One-Piece%20[%EB%B8%94%EB%9E%99,%EC%B9%B4%ED%82%A4]-%EC%A0%95%EB%A7%90%20%EB%82%A0%EC%94%AC%ED%95%B4%EB%B3%B4%EC%9D%B4%EB%8A%94%20%ED%95%8F%EA%B0%90!!%20%EB%B1%83%EC%82%B4%EC%9D%84%20%EC%9E%A1%EC%95%84%EC%A4%98%EC%9A%94%EC%B9%B4%EB%9D%BC%EB%8A%94%20%ED%83%88%EB%B6%80%EC%B0%A9%20%EA%B0%80%EB%8A%A5!!%20%EB%93%9C%EB%A0%88%EC%8B%9C%20%EC%9D%B8%EA%B8%B0%EB%A7%8C%EC%A0%90%20%EC%83%81%ED%92%88&img=http://shopping.phinf.naver.net/main_8170961/8170961952.jpg HTTP/1.1\" 200 72\n",
      "10.0.2.2 - - [22/Aug/2016 10:39:32] \"GET /classify?name=%ED%81%B4%EB%9E%98%EC%8B%9D[%EC%9E%90%EC%BC%93]%EB%A7%88%EB%9E%91%20%EC%9D%B4%EC%A4%91jk%EB%B2%A0%EC%9D%B4%EC%A7%81%ED%95%9C%20%EB%94%94%EC%9E%90%EC%9D%B8%EA%B3%BC%20%ED%8E%B8%ED%95%9C%20%EB%A9%B4%EC%9E%90%EC%BC%93%EC%9C%BC%EB%A1%9C%EB%B0%B0%EC%83%89%20%EC%9D%B4%EC%A4%91%EC%95%88%EA%B0%90%EC%9D%B4%20%EC%9E%88%EB%8A%94%EB%AA%A8%EB%8D%98%ED%95%9C%20%EA%B0%90%EA%B0%81%EC%9D%98%20%EB%B3%B4%EC%9D%B4%ED%95%8F%EC%9E%90%EC%BC%93%EC%9D%B4%EC%98%88%EC%9A%942col:44~%EB%82%A0%EC%94%AC77%EA%B9%8C%EC%A7%80%20%EC%B0%A9%EC%9A%A9%EA%B0%80%EB%8A%A5(free)&img=http://shopping.phinf.naver.net/main_7948329/7948329490.jpg HTTP/1.1\" 200 74\n",
      "10.0.2.2 - - [22/Aug/2016 10:39:32] \"GET /classify?name=%EB%8F%84%ED%88%BC%EA%B0%80%EB%94%94%EA%B1%B4))%EB%8F%84%ED%86%B0%ED%95%9C%20%EB%91%90%EA%BB%98%EC%9D%98%20%EC%A7%9C%EC%9E%84%EC%9D%B4%20%EC%98%88%EC%81%9C%20%EA%B3%A0%EA%B8%89%20%EB%8B%88%ED%8A%B8%EA%B0%80%EB%94%94%EA%B1%B4!!&img=http://shopping.phinf.naver.net/main_6599924/6599924859.1.jpg HTTP/1.1\" 200 80\n",
      "10.0.2.2 - - [22/Aug/2016 10:39:32] \"GET /classify?name=%ED%86%A0%EB%AF%B8%20%EC%A7%80%EA%B7%B8%EC%9E%AC%EA%B7%B8%20%EB%A7%A8%ED%88%AC%EB%A7%A8[2color]%EC%AB%80%EC%AB%80%ED%95%9C%20%EC%A7%9C%EC%9E%84%EC%97%90%20%ED%8E%B8%EC%95%88%ED%95%9C%20%EC%B0%A9%EC%9A%A9%EA%B0%90!%EA%B8%B0%EC%A1%B4%EA%B0%80%2034,000%EC%9B%90&img=http://shopping.phinf.naver.net/main_8271570/8271570506.jpg HTTP/1.1\" 200 74\n",
      "10.0.2.2 - - [22/Aug/2016 10:39:33] \"GET /classify?name=ANO%204%EB%B2%84%ED%8A%BC%20%ED%97%A8%EB%A6%AC%EB%84%A5%EC%AD%89T4%EB%B2%84%ED%8A%BC%20%ED%97%A8%EB%A6%AC%EB%84%A5%20%EB%94%94%EC%9E%90%EC%9D%B8%EC%9C%BC%EB%A1%9C%20%EB%82%B4%EC%B8%84%EB%9F%AC%ED%95%A8%EC%9D%84%20%EB%8D%94%ED%95%B4%EC%A4%84%20%EC%8A%AC%EB%9D%BC%EB%B8%8C%20%EC%AD%89T(M/L)&img=http://shopping.phinf.naver.net/main_7916365/7916365837.jpg HTTP/1.1\" 200 74\n"
     ]
    },
    {
     "name": "stdout",
     "output_type": "stream",
     "text": [
      "3022\n",
      "3023\n",
      "3024\n",
      "3025\n"
     ]
    },
    {
     "name": "stderr",
     "output_type": "stream",
     "text": [
      "10.0.2.2 - - [22/Aug/2016 10:39:33] \"GET /classify?name=RED-7%20%EC%8A%A4%ED%8C%90%20%ED%95%98%ED%94%84%20%EB%8D%B0%EB%8B%98%ED%8C%AC%EC%B8%A0%EC%9C%A0%ED%96%89%EC%9D%84%20%ED%83%80%EC%A7%80%20%EC%95%8A%EB%8A%94%20%ED%8C%A8%ED%84%B4%EC%9C%BC%EB%A1%9C%20%EC%96%B8%EC%A0%9C%EB%82%98%20%ED%8E%B8%ED%95%98%EA%B2%8C%20%EC%A6%90%EA%B2%A8%EC%9E%85%EA%B8%B0%20%EC%A2%8B%EC%9D%80%20%ED%8C%AC%EC%B8%A0(S/M/L)&img=http://shopping.phinf.naver.net/main_6978300/6978300964.jpg HTTP/1.1\" 200 74\n",
      "10.0.2.2 - - [22/Aug/2016 10:39:33] \"GET /classify?name=%EB%9D%BC%EC%9D%B8%EC%9D%B4%20%EB%8F%8B%EB%B3%B4%EC%9D%B4%EB%8A%94!%20%EB%B3%BC%EB%A5%A8%20%EC%8A%AC%EB%A6%BC%ED%95%8F%EC%88%84%EC%B9%B4%EB%9D%BC%20%EC%BB%B7%ED%8C%85%EB%9F%AC%ED%94%8C%20%EC%A7%9A%EC%97%85%20%EB%8B%88%ED%8A%B8%EC%9E%90%EC%BC%93/JK537&img=http://shopping.phinf.naver.net/main_8303883/8303883844.jpg HTTP/1.1\" 200 74\n"
     ]
    },
    {
     "name": "stdout",
     "output_type": "stream",
     "text": [
      "3026\n",
      "3027\n",
      "3028\n",
      "3029\n",
      "3030\n",
      "3031\n",
      "3032\n"
     ]
    },
    {
     "name": "stderr",
     "output_type": "stream",
     "text": [
      "10.0.2.2 - - [22/Aug/2016 10:39:33] \"GET /classify?name=%EC%B2%B4%ED%81%AC%EC%9B%90%ED%94%BC%EC%8A%A4(1color)%EB%A7%A8%ED%88%AC%EB%A7%A8,%EB%8B%88%ED%8A%B8%20%EB%AA%A8%EB%91%90%20%EB%A0%88%EC%9D%B4%EC%96%B4%EB%93%9C%EA%B0%80%EB%8A%A5%ED%95%9C%20%EC%B2%B4%ED%81%AC%EC%9B%90%ED%94%BC%EC%8A%A4:)&img=http://shopping.phinf.naver.net/main_8022648/8022648255.jpg HTTP/1.1\" 200 80\n",
      "10.0.2.2 - - [22/Aug/2016 10:39:33] \"GET /classify?name=[Vane-OP556]%20Black%20line%20dress-%EC%9A%B0%EC%95%84%ED%95%9C%20%EB%A9%8B!%20%EC%84%B8%EB%A0%A8%EB%90%9C%20%EB%9D%BC%EC%9D%B8%EC%9D%B4%20%EB%8F%8B%EB%B3%B4%EC%97%AC%EC%9A%94!&img=http://shopping.phinf.naver.net/main_7884749/7884749622.jpg HTTP/1.1\" 200 80\n",
      "10.0.2.2 - - [22/Aug/2016 10:39:33] \"GET /classify?name=%EB%8D%B0%EB%8B%88%EC%8A%A4[%EC%85%94%EC%B8%A0%EC%9E%90%EC%BC%93]%EC%A7%80%ED%8D%BC%20%EC%96%B8%EB%B0%9Cjp%EC%BD%94%ED%8A%BC%EC%95%88%EA%B0%90%EC%9D%B4%20%ED%95%9C%EA%B2%B9%EB%8D%94%20%EB%8D%A7%EB%8C%80%EC%96%B4%EC%A0%B8%EB%82%A8%EB%B0%A9%EB%B3%B4%EB%8B%A4%20%ED%9E%98%EC%9E%88%EA%B2%8C%20%EB%96%A8%EC%96%B4%EC%A7%80%EB%8A%94%EC%9E%90%EC%BC%93%EC%8A%A4%ED%83%80%EC%9D%BC%EB%A1%9C%20%ED%99%9C%EC%9A%A9%EB%8F%84%20%EB%86%92%EC%9D%80%EC%97%B0%EC%B6%9C!2col:44~77%EA%B9%8C%EC%A7%80%20%EC%B0%A9%EC%9A%A9%EA%B0%80%EB%8A%A5&img=http://shopping.phinf.naver.net/main_8352531/8352531915.jpg HTTP/1.1\" 200 74\n",
      "10.0.2.2 - - [22/Aug/2016 10:39:33] \"GET /classify?name=%EB%8B%A5%EC%8A%A4(%EB%84%A5%ED%83%80%EC%9D%B4)%20[%EB%A1%AF%EB%8D%B0%EB%B0%B1%ED%99%94%EC%A0%90]DEFDT007MI%20%EC%B2%B4%ED%81%AC%EC%A7%9C%EC%9E%84%EC%97%90%20%20%EB%8B%A5%EC%8A%A4%20%20%EB%AC%B8%EC%9E%A5%EC%9D%B4%20%20%EA%B3%A0%EA%B8%89%EC%8A%A4%EB%9F%AC%EC%9A%B0%EB%A9%B4%EC%84%9C%20%EC%84%B8%EB%A0%A8%EB%90%9C%20%EB%8A%90%EB%82%8C%EC%9D%84%20%EC%97%B0%EC%B6%9C&img=http://shopping.phinf.naver.net/main_7966151/7966151018.jpg HTTP/1.1\" 200 74\n",
      "10.0.2.2 - - [22/Aug/2016 10:39:33] \"GET /classify?name=%EC%B9%BC%EB%A6%BD%ED%86%A0%20%EB%AC%B4%EC%A7%80%20%EA%B8%B0%EB%AA%A8%EB%A7%A8%ED%88%AC%EB%A7%A8%EA%B2%A8%EC%9A%B8%EC%97%90%20%EC%9D%B4%EB%A7%8C%ED%95%9C%20%EB%85%80%EC%84%9D%EC%9D%B4%EC%97%86%EC%A3%A0~~%EB%8F%84%ED%86%B0%ED%95%9C%20%EA%B8%B0%EB%AA%A8%EC%9B%90%EB%8B%A8%EC%9D%B4%20%EB%94%B0%EB%9C%BB%ED%95%9C%20%EA%B2%A8%EC%9A%B8%EC%9D%84%20%EB%B3%B4%EC%9E%A5%ED%95%B4%EC%A4%84%20%EB%AC%B4%EC%A7%80%20%EB%A7%A8%ED%88%AC%EB%A7%A8%20%ED%8B%B0%EC%85%94%EC%B8%A0%EC%9E%85%EB%8B%88%EB%8B%A4%5E%5E&img=http://shopping.phinf.naver.net/main_6159723/6159723592.jpg HTTP/1.1\" 200 80\n",
      "10.0.2.2 - - [22/Aug/2016 10:39:33] \"GET /classify?name=%EC%85%94%EB%A7%81%EB%9D%BC%EC%9D%B4%EB%8D%94%EC%9E%90%EC%BC%93(%EB%B8%94%EB%9E%99%20s,m)11%EC%9B%946%EC%9D%BC%EC%9D%B4%ED%9B%84%EC%88%9C%EC%B0%A8%EB%B0%9C%EC%86%A1body%EB%9D%BC%EC%9D%B8%EC%9D%84%20%EB%8A%98%EC%94%AC%ED%95%98%EA%B2%8C%20%ED%97%88%EB%A6%AC%EB%9D%BC%EC%9D%B8%EC%9D%B4%20%EC%98%88%EC%88%A0%EC%83%A4%EB%A7%81%EC%9D%B4%20%ED%95%8F%EC%9D%84%20%EC%82%B4%EB%A0%A4%EC%A4%98%EC%97%AC%EB%9F%AC%EA%B0%80%EC%A7%80%20%EC%97%B0%EC%B6%9C%EA%B0%80%EB%8A%A5%ED%95%9C%20%EC%9E%90%EC%BC%93&img=http://shopping.phinf.naver.net/main_8326992/8326992657.jpg HTTP/1.1\" 200 74\n",
      "10.0.2.2 - - [22/Aug/2016 10:39:33] \"GET /classify?name=%EB%8D%B0%EC%9D%BC%EB%A6%AC%20%EC%BD%94%ED%8A%BC%20%5C%20quot;%EB%8D%B0%EB%8B%98%EC%85%94%EC%B8%A0%5C%20quot;%20%7B%20%EC%8B%9C%ED%81%AC%ED%95%9C%20%ED%95%8F%EC%9D%B4%20%EB%A9%8B%EC%8A%A4%EB%9F%AC%EC%9B%8C%EC%9A%94%20:)%20%EC%8A%A4%EC%B9%B4%EC%9D%B4%EB%B8%94%EB%A3%A8,%20%EC%95%84%EC%9D%B4%EB%B3%B4%EB%A6%AC,%20%EB%94%A5%EB%B8%94%EB%A3%A8%203%20colors%20%7D%20%EB%8D%B0%EB%8B%98%EC%85%94%EC%B8%A0,%20%EC%B2%AD%EB%82%A8%EB%B0%A9,%20%EC%97%AC%EC%9E%90%EB%8D%B0%EB%8B%98%EC%85%94%EC%B8%A0,%20%EC%B2%AD%EC%85%94%EC%B8%A0,%20%EC%97%AC%EC%9E%90%20%EB%8D%B0&img=http://shopping.phinf.naver.net/main_8322785/8322785964.jpg HTTP/1.1\" 200 74\n",
      "10.0.2.2 - - [22/Aug/2016 10:39:33] \"GET /classify?name=%EC%86%8C%EB%84%A5%20%EB%B0%98%ED%8F%B4%EB%9D%BC%20%EA%B8%B0%EB%AA%A8%20%EB%A7%A8%ED%88%AC%EB%A7%A8[4color]%EA%B3%A8%EC%A7%80%EC%8B%9C%EB%B3%B4%EB%A6%AC%EA%B3%A0%20%ED%8F%AC%EC%9D%B8%ED%8A%B8!%EA%B8%B0%EC%A1%B4%EA%B0%80%2038,000%EC%9B%90&img=http://shopping.phinf.naver.net/main_8173272/8173272499.jpg HTTP/1.1\" 200 74\n",
      "10.0.2.2 - - [22/Aug/2016 10:39:33] \"GET /classify?name=%EC%A0%9C%EC%9D%B4%EC%A0%9C%EC%9D%B4%20%EC%A7%80%EA%B3%A0%ED%8A%B8%20[%EB%A1%AF%EB%8D%B0%EB%B0%B1%ED%99%94%EC%A0%90]%EC%9D%B4%EC%9E%90%EB%B2%A8%20%ED%94%84%EB%A6%B0%ED%8C%85%EA%B3%BC%20%EC%B2%B4%ED%81%AC%ED%8C%A8%ED%84%B4%20%EB%94%94%ED%85%8C%EC%9D%BC%EC%9D%B4%20%EC%9C%A0%EB%8B%88%ED%81%AC%ED%95%9C%20%ED%8B%B0%EC%85%94%EC%B8%A0(GGEJ501058)&img=http://shopping.phinf.naver.net/main_7968515/7968515676.jpg HTTP/1.1\" 200 74\n",
      "10.0.2.2 - - [22/Aug/2016 10:39:33] \"GET /classify?name=alvinclo%20(%EC%95%A8%EB%B9%88%ED%81%B4%EB%A1%9C)/%EC%95%A8%EB%B9%88%ED%81%B4%EB%A1%9CMAR-728%20%ED%94%8C%EB%9D%BC%EC%9B%8C%20%ED%8C%A8%ED%84%B4%EC%9C%BC%EB%A1%9C%20%ED%8F%AC%EC%9D%B8%ED%8A%B8%EB%A5%BC%20%EC%A4%80%20%EC%9C%A0%EB%8B%88%ED%81%AC%ED%95%9C%20%EB%A7%A8%ED%88%AC%EB%A7%A8&img=http://shopping.phinf.naver.net/main_8240809/8240809401.jpg HTTP/1.1\" 200 74\n"
     ]
    },
    {
     "name": "stdout",
     "output_type": "stream",
     "text": [
      "3033\n",
      "3034\n",
      "3035\n",
      "3036\n",
      "3037\n"
     ]
    }
   ],
   "source": [
    "from bottle import route, run, template,request,get, post\n",
    "\n",
    "import  time\n",
    "from threading import  Condition\n",
    "_CONDITION = Condition()\n",
    "\n",
    "count = 0\n",
    "\n",
    "@route('/classify')\n",
    "def classify():\n",
    "    global count\n",
    "    count += 1\n",
    "    print count\n",
    "    if not count % 100:\n",
    "        clear_output()\n",
    "    img = request.GET.get('img','')\n",
    "    name = request.GET.get('name', '')\n",
    "    # getImge(getImageName(img))\n",
    "    pred = clf.predict(vectorizer.transform([getName(name.decode('utf-8'))]))[0]\n",
    "    return {'cate':cate_id_name_dict[pred]}\n",
    "\n",
    "run(host='0.0.0.0', port=8887)\n"
   ]
  },
  {
   "cell_type": "code",
   "execution_count": null,
   "metadata": {
    "collapsed": true
   },
   "outputs": [],
   "source": []
  },
  {
   "cell_type": "code",
   "execution_count": null,
   "metadata": {
    "collapsed": true
   },
   "outputs": [],
   "source": []
  }
 ],
 "metadata": {
  "kernelspec": {
   "display_name": "Python 2",
   "language": "python",
   "name": "python2"
  },
  "language_info": {
   "codemirror_mode": {
    "name": "ipython",
    "version": 2
   },
   "file_extension": ".py",
   "mimetype": "text/x-python",
   "name": "python",
   "nbconvert_exporter": "python",
   "pygments_lexer": "ipython2",
   "version": "2.7.12"
  },
  "widgets": {
   "state": {},
   "version": "1.1.2"
  }
 },
 "nbformat": 4,
 "nbformat_minor": 0
}
