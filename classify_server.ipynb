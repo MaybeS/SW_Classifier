{
 "cells": [
  {
   "cell_type": "markdown",
   "metadata": {},
   "source": []
  },
  {
   "cell_type": "code",
   "execution_count": 1,
   "metadata": {
    "collapsed": true
   },
   "outputs": [],
   "source": [
    "from sklearn.externals import joblib"
   ]
  },
  {
   "cell_type": "code",
   "execution_count": 2,
   "metadata": {
    "collapsed": false
   },
   "outputs": [],
   "source": [
    "clf = joblib.load('classify.model')\n",
    "cate_dict = joblib.load('cate_dict.dat')\n",
    "vectorizer = joblib.load('vectorizer.dat')"
   ]
  },
  {
   "cell_type": "code",
   "execution_count": 3,
   "metadata": {
    "collapsed": false
   },
   "outputs": [
    {
     "data": {
      "text/plain": [
       "['n_vectorizer.dat']"
      ]
     },
     "execution_count": 3,
     "metadata": {},
     "output_type": "execute_result"
    }
   ],
   "source": [
    "joblib.dump(clf,'n_classify.model')\n",
    "joblib.dump(cate_dict,'n_cate_dict.dat')\n",
    "joblib.dump(vectorizer,'n_vectorizer.dat')"
   ]
  },
  {
   "cell_type": "code",
   "execution_count": 4,
   "metadata": {
    "collapsed": false
   },
   "outputs": [],
   "source": [
    "cate_id_name_dict = dict(map(lambda (k,v):(v,k),cate_dict.items()))"
   ]
  },
  {
   "cell_type": "code",
   "execution_count": 5,
   "metadata": {
    "collapsed": true
   },
   "outputs": [],
   "source": [
    "from konlpy.tag import Twitter; t = Twitter()\n",
    "from nltk import pos_tag, word_tokenize\n",
    "from nltk.util import ngrams"
   ]
  },
  {
   "cell_type": "code",
   "execution_count": 6,
   "metadata": {
    "collapsed": false
   },
   "outputs": [],
   "source": [
    "brackets = [\"[\", \"{\", \"(\"]\n",
    "brackete = [\"]\", \"}\", \")\"]\n",
    "def getBrac(name, chk=True):\n",
    "    brac = {True:\"\", False:\"\"}\n",
    "    for c in name:\n",
    "        chk = not c in brackets and chk\n",
    "        if c not in brackets and c not in brackete: brac[chk] += c\n",
    "        else: brac[chk] += \" \"; brac[not chk] += \" \"\n",
    "        chk = c in brackete or chk\n",
    "    return (brac[True], brac[False])"
   ]
  },
  {
   "cell_type": "code",
   "execution_count": 7,
   "metadata": {
    "collapsed": false
   },
   "outputs": [],
   "source": [
    "gram_cnt = 2\n",
    "chk_NC = [\"NN\", \"CD\"]\n",
    "chk_NA = [\"Noun\"]\n",
    "chk_NAN = [\"Noun\", \"Number\"]\n",
    "\n",
    "getNLTK = lambda name, chk : [token[0] for token in pos_tag(name) if token[1][:2] in chk]\n",
    "getKONL = lambda name, chk : [token[0] for token in t.pos(name) if token[1] in chk]\n",
    "getTokn = lambda name, chk_ko, chk_en : [token[0] for token in t.pos(name) if (token[1] == \"Alpha\") or token[1] in chk_ko]\n",
    "getGram = lambda name, cnt : [\" \".join([\"\".join(grams)]) for grams in ngrams(name, cnt)]\n",
    "\n",
    "def getName(name):\n",
    "    brac = getBrac(name)\n",
    "    noun = getTokn(brac[0], chk_NAN, chk_NC) + getTokn(brac[1], chk_NAN, chk_NC)\n",
    "    gram = getGram(noun, min(gram_cnt, max(len(noun)-1, 1)))\n",
    "    return \" \".join(list(set(noun)) + list(set(gram)))"
   ]
  },
  {
   "cell_type": "code",
   "execution_count": 8,
   "metadata": {
    "collapsed": true
   },
   "outputs": [],
   "source": [
    "getImageName = lambda name : name.split('/')[-1][:-4]"
   ]
  },
  {
   "cell_type": "code",
   "execution_count": 9,
   "metadata": {
    "collapsed": false
   },
   "outputs": [],
   "source": [
    "from classify_image_module import getImageJson\n",
    "def getImge(name):\n",
    "    return getImageJson(name)"
   ]
  },
  {
   "cell_type": "code",
   "execution_count": 10,
   "metadata": {
    "collapsed": false
   },
   "outputs": [
    {
     "name": "stdout",
     "output_type": "stream",
     "text": [
      "name:  4770 i 코어 4 7 하스웰 K 세대 인텔 정품 i7 4세대 인텔코어 코어i 74 인텔인텔 하스웰정품 4770K K하스웰 세대4770\n",
      "image:  \n"
     ]
    }
   ],
   "source": [
    "test_name = u\"인텔 인텔 코어i7-4세대 4770K (하스웰) (정품)\"\n",
    "test_imge = u\"90985\"\n",
    "name = getName(test_name)\n",
    "imge = getImge(test_imge)\n",
    "print \"name: \", name\n",
    "print \"image: \", imge"
   ]
  },
  {
   "cell_type": "code",
   "execution_count": 11,
   "metadata": {
    "collapsed": false
   },
   "outputs": [
    {
     "name": "stdout",
     "output_type": "stream",
     "text": [
      "디지털/가전;PC부품;CPU\n"
     ]
    }
   ],
   "source": [
    "pred = clf.predict(vectorizer.transform([name + imge]))[0]\n",
    "print cate_id_name_dict[pred]"
   ]
  },
  {
   "cell_type": "code",
   "execution_count": 12,
   "metadata": {
    "collapsed": false,
    "scrolled": true
   },
   "outputs": [
    {
     "name": "stdout",
     "output_type": "stream",
     "text": [
      "name:  생산 번 아웃 차렵 국내 세트 바자르 극세사 퀸 100 생산100 아웃극세사 차렵세트 세트퀸 번아웃 100바자르 국내생산 바자르번 극세사차렵\n",
      "image:  sheet bed sheet bed\n",
      "q: 생산 번 아웃 차렵 국내 세트 바자르 극세사 퀸 100 생산100 아웃극세사 차렵세트 세트퀸 번아웃 100바자르 국내생산 바자르번 극세사차렵 sheet bed sheet bed\n",
      "패션의류;남성언더웨어/잠옷;잠옷/홈웨어\n"
     ]
    }
   ],
   "source": [
    "name_test = u\"(퀸)국내생산100% 바자르 번아웃극세사 차렵세트\"\n",
    "imge_test = \"http://image.hnsmall.com/images/goods/477/11924477_g.jpg\"\n",
    "name = getName(name_test)\n",
    "imge = getName(getImge(getImageName(imge_test)))\n",
    "q = getName(name_test) + \" \" + getName(getImge(getImageName(imge_test)))\n",
    "print \"name: \", name\n",
    "print \"image: \", imge\n",
    "print \"q:\", q\n",
    "print cate_id_name_dict[clf.predict(vectorizer.transform([q]))[0]]"
   ]
  },
  {
   "cell_type": "code",
   "execution_count": null,
   "metadata": {
    "collapsed": true
   },
   "outputs": [],
   "source": [
    "from IPython.display import clear_output"
   ]
  },
  {
   "cell_type": "code",
   "execution_count": null,
   "metadata": {
    "collapsed": false
   },
   "outputs": [
    {
     "name": "stderr",
     "output_type": "stream",
     "text": [
      "Bottle v0.12.9 server starting up (using WSGIRefServer())...\n",
      "Listening on http://0.0.0.0:8887/\n",
      "Hit Ctrl-C to quit.\n",
      "\n"
     ]
    }
   ],
   "source": [
    "from bottle import route, run, template,request,get, post\n",
    "\n",
    "import  time\n",
    "from threading import  Condition\n",
    "_CONDITION = Condition()\n",
    "\n",
    "count = 0\n",
    "\n",
    "@route('/classify')\n",
    "def classify():\n",
    "    global count\n",
    "    count += 1\n",
    "    print count\n",
    "    if not count % 100:\n",
    "        clear_output()\n",
    "    img = request.GET.get('img','')\n",
    "    name = request.GET.get('name', '')\n",
    "    q =  getName(name.decode('utf-8') + \" \" + getImge(getImageName(img)).decode('utf-8'))\n",
    "    pred = clf.predict(vectorizer.transform([q]))[0]\n",
    "    return {'cate':cate_id_name_dict[pred]}\n",
    "\n",
    "run(host='0.0.0.0', port=8887)\n"
   ]
  },
  {
   "cell_type": "code",
   "execution_count": null,
   "metadata": {
    "collapsed": true
   },
   "outputs": [],
   "source": []
  },
  {
   "cell_type": "code",
   "execution_count": null,
   "metadata": {
    "collapsed": true
   },
   "outputs": [],
   "source": []
  },
  {
   "cell_type": "code",
   "execution_count": null,
   "metadata": {
    "collapsed": true
   },
   "outputs": [],
   "source": []
  }
 ],
 "metadata": {
  "kernelspec": {
   "display_name": "Python 2",
   "language": "python",
   "name": "python2"
  },
  "language_info": {
   "codemirror_mode": {
    "name": "ipython",
    "version": 2
   },
   "file_extension": ".py",
   "mimetype": "text/x-python",
   "name": "python",
   "nbconvert_exporter": "python",
   "pygments_lexer": "ipython2",
   "version": "2.7.11"
  },
  "widgets": {
   "state": {},
   "version": "1.1.2"
  }
 },
 "nbformat": 4,
 "nbformat_minor": 0
}
